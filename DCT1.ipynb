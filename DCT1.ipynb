{
 "cells": [
  {
   "cell_type": "markdown",
   "id": "2b19e3da",
   "metadata": {},
   "source": [
    "The asyncio module provides a framework that revolves around the event loop. An event loop basically waits for something to happen and then acts on the event. It is responsible for handling such things as I/O and system events.\n",
    "\n",
    "\n",
    "A coroutine is a special function that can give up control to its caller without losing its state. A coroutine is a consumer and an extension of a generator. One of their big benefits over threads is that they don’t use very much memory to execute. Note that when you call a coroutine function, it doesn’t actually execute. Instead it will return a coroutine object that you can pass to the event loop to have it executed either immediately or later on.\n",
    "\n",
    "A future is basically an object that represents the result of work that hasn’t completed. Your event loop can watch future objects and wait for them to finish. When a future finishes, it is set to done. Asyncio also supports locks and semaphores.\n",
    "\n",
    "A Task is a wrapper for a coroutine and a subclass of Future. You can even schedule a Task using the event loop."
   ]
  },
  {
   "cell_type": "markdown",
   "id": "1ae72d13",
   "metadata": {},
   "source": []
  }
 ],
 "metadata": {
  "language_info": {
   "name": "python"
  }
 },
 "nbformat": 4,
 "nbformat_minor": 5
}
